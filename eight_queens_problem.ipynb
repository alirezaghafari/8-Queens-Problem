{
  "cells": [
    {
      "cell_type": "markdown",
      "metadata": {
        "id": "cagPYT8ZP9KR"
      },
      "source": [
        "### Import Libs"
      ],
      "id": "cagPYT8ZP9KR"
    },
    {
      "cell_type": "code",
      "metadata": {
        "id": "_SWDEB4JP9KT"
      },
      "source": [
        "import matplotlib.pyplot as plt\n",
        "import random\n",
        "import numpy as np"
      ],
      "id": "_SWDEB4JP9KT",
      "execution_count": 57,
      "outputs": []
    },
    {
      "cell_type": "markdown",
      "metadata": {
        "id": "KlXK3538P9KU"
      },
      "source": [
        "### Create Individual"
      ],
      "id": "KlXK3538P9KU"
    },
    {
      "cell_type": "code",
      "metadata": {
        "id": "9nI9oNkfP9KU"
      },
      "source": [
        "def create_individual():\n",
        "    # Create a random chromosome\n",
        "    return [random.randint(0, 7) for _ in range(8)]"
      ],
      "id": "9nI9oNkfP9KU",
      "execution_count": 58,
      "outputs": []
    },
    {
      "cell_type": "markdown",
      "metadata": {
        "id": "Wpo3-9u-P9KU"
      },
      "source": [
        "### Generate Population"
      ],
      "id": "Wpo3-9u-P9KU"
    },
    {
      "cell_type": "code",
      "metadata": {
        "id": "8gBc9Ln3P9KU"
      },
      "source": [
        "def generate_population(population_size=20):\n",
        "    # Generate a population of individuals\n",
        "    return [create_individual() for _ in range(population_size)]"
      ],
      "id": "8gBc9Ln3P9KU",
      "execution_count": 59,
      "outputs": []
    },
    {
      "cell_type": "markdown",
      "metadata": {
        "id": "-VoUmDWlP9KV"
      },
      "source": [
        "### Parent Selection"
      ],
      "id": "-VoUmDWlP9KV"
    },
    {
      "cell_type": "code",
      "metadata": {
        "id": "QPPz2NqEP9KV"
      },
      "source": [
        "def parent_selection(population, fitnesses):\n",
        "    # Select a parent based on fitness\n",
        "    total_fitness = sum(fitnesses.values())\n",
        "    pick = random.uniform(0, total_fitness)\n",
        "    current = 0\n",
        "    for individual, fitness in fitnesses.items():\n",
        "        current += fitness\n",
        "        if current > pick:\n",
        "            return individual"
      ],
      "id": "QPPz2NqEP9KV",
      "execution_count": 60,
      "outputs": []
    },
    {
      "cell_type": "markdown",
      "metadata": {
        "id": "_OlE1TeGP9KV"
      },
      "source": [
        "### Next Generation Selection"
      ],
      "id": "_OlE1TeGP9KV"
    },
    {
      "cell_type": "code",
      "metadata": {
        "id": "h7LVV7HmP9KW"
      },
      "source": [
        "def next_generation_selection(children_population):\n",
        "    # Select the next generation from the children population\n",
        "    sorted_population = sorted(children_population, key=lambda x: fitness_score(x), reverse=True)\n",
        "    return sorted_population[:20]"
      ],
      "id": "h7LVV7HmP9KW",
      "execution_count": 61,
      "outputs": []
    },
    {
      "cell_type": "markdown",
      "metadata": {
        "id": "GNY8zpmrP9KW"
      },
      "source": [
        "### Crossover"
      ],
      "id": "GNY8zpmrP9KW"
    },
    {
      "cell_type": "code",
      "metadata": {
        "id": "baShrS-ZP9KW"
      },
      "source": [
        "def crossover(parents):\n",
        "    # Perform crossover between two parents to create offspring\n",
        "    point = random.randint(1, 7)\n",
        "    child1 = parents[0][:point] + parents[1][point:]\n",
        "    child2 = parents[1][:point] + parents[0][point:]\n",
        "    return [child1, child2]"
      ],
      "id": "baShrS-ZP9KW",
      "execution_count": 62,
      "outputs": []
    },
    {
      "cell_type": "markdown",
      "metadata": {
        "id": "GLAuakaoP9KW"
      },
      "source": [
        "### Mutation"
      ],
      "id": "GLAuakaoP9KW"
    },
    {
      "cell_type": "code",
      "metadata": {
        "id": "VrwD_SzaP9KX"
      },
      "source": [
        "def mutate(individual, mutation_rate=0.1):\n",
        "    # Mutate an individual with a given mutation rate\n",
        "    if random.random() < mutation_rate:\n",
        "        mutate_point = random.randint(0, 7)\n",
        "        new_value = random.randint(0, 7)\n",
        "        while new_value == individual[mutate_point]:\n",
        "            new_value = random.randint(0, 7)\n",
        "        individual[mutate_point] = new_value\n",
        "    return individual"
      ],
      "id": "VrwD_SzaP9KX",
      "execution_count": 63,
      "outputs": []
    },
    {
      "cell_type": "markdown",
      "metadata": {
        "id": "gbQoeC97P9KX"
      },
      "source": [
        "### Score Function"
      ],
      "id": "gbQoeC97P9KX"
    },
    {
      "cell_type": "code",
      "metadata": {
        "id": "QcwyNmIXP9KX"
      },
      "source": [
        "def fitness_score(individual):\n",
        "    # Calculate fitness score of an individual\n",
        "    non_attacking_pairs = 0\n",
        "    total_pairs = 28  # 8 choose 2\n",
        "    for i in range(len(individual)):\n",
        "        for j in range(i + 1, len(individual)):\n",
        "            if individual[i] != individual[j] and abs(individual[i] - individual[j]) != j - i:\n",
        "                non_attacking_pairs += 1\n",
        "    return non_attacking_pairs / total_pairs"
      ],
      "id": "QcwyNmIXP9KX",
      "execution_count": 64,
      "outputs": []
    },
    {
      "cell_type": "markdown",
      "metadata": {
        "id": "9rV5c8GeP9KX"
      },
      "source": [
        "### Calculate Population Fitness"
      ],
      "id": "9rV5c8GeP9KX"
    },
    {
      "cell_type": "code",
      "metadata": {
        "id": "7EqvIzIlP9KX"
      },
      "source": [
        "def population_fitness(population):\n",
        "    # Calculate the fitness of the entire population\n",
        "    individuals_fitnesses = {}\n",
        "    for chromosome in population:\n",
        "        fitness_sc = fitness_score(chromosome)\n",
        "        individuals_fitnesses[tuple(chromosome)] = fitness_sc\n",
        "    total_fitness = sum(individuals_fitnesses.values())\n",
        "    return individuals_fitnesses, total_fitness"
      ],
      "id": "7EqvIzIlP9KX",
      "execution_count": 65,
      "outputs": []
    },
    {
      "cell_type": "markdown",
      "metadata": {
        "id": "NrO_l_38P9KY"
      },
      "source": [
        "### Termination Condition"
      ],
      "id": "NrO_l_38P9KY"
    },
    {
      "cell_type": "code",
      "metadata": {
        "id": "oSIT5dJyP9KY"
      },
      "source": [
        "def check_end(population):\n",
        "    # Check if the termination condition is met\n",
        "    for individual in population:\n",
        "        if fitness_score(individual) == 1.0:\n",
        "            return True\n",
        "    return False"
      ],
      "id": "oSIT5dJyP9KY",
      "execution_count": 66,
      "outputs": []
    },
    {
      "cell_type": "markdown",
      "source": [
        "## Generate the next generation"
      ],
      "metadata": {
        "id": "DJi1q1zaQh67"
      },
      "id": "DJi1q1zaQh67"
    },
    {
      "cell_type": "code",
      "metadata": {
        "id": "guS6u0OKP9KY"
      },
      "source": [
        "def generate_next_population(population, fitnesses):\n",
        "    # Generate the next population\n",
        "    new_population = []\n",
        "    for _ in range(len(population)):\n",
        "        parents = [list(parent_selection(population, fitnesses)) for _ in range(6)]\n",
        "        for i in range(0, len(parents), 2):\n",
        "            children = crossover(parents[i:i+2])\n",
        "            new_population.extend([mutate(child) for child in children])\n",
        "    return new_population"
      ],
      "id": "guS6u0OKP9KY",
      "execution_count": 67,
      "outputs": []
    },
    {
      "cell_type": "markdown",
      "metadata": {
        "id": "TIIz2FSiP9KY"
      },
      "source": [
        "### Run Your Algorithms"
      ],
      "id": "TIIz2FSiP9KY"
    },
    {
      "cell_type": "code",
      "metadata": {
        "id": "XrooaM0WP9KY"
      },
      "source": [
        "generation = 0\n",
        "fitness = []\n",
        "\n",
        "population = generate_population()\n",
        "individuals_fitnesses, total_fitness = population_fitness(population)\n",
        "\n",
        "while not check_end(population):\n",
        "    new_population = generate_next_population(population, individuals_fitnesses) # crossover and mutation\n",
        "    population = next_generation_selection(new_population)\n",
        "    individuals_fitnesses, total_fitness = population_fitness(population)\n",
        "\n",
        "    generation += 1\n",
        "    avg_fit = total_fitness / len(population)\n",
        "    fitness.append(avg_fit)"
      ],
      "id": "XrooaM0WP9KY",
      "execution_count": 68,
      "outputs": []
    },
    {
      "cell_type": "markdown",
      "metadata": {
        "id": "I_icwCPcP9KZ"
      },
      "source": [
        "### See Your Progress Over Generations"
      ],
      "id": "I_icwCPcP9KZ"
    },
    {
      "cell_type": "code",
      "metadata": {
        "colab": {
          "base_uri": "https://localhost:8080/",
          "height": 546
        },
        "id": "D2C1LUAMP9KZ",
        "outputId": "ecb408f3-a463-44b5-b645-e2a6c610877b"
      },
      "source": [
        "print(f\"Generations: {generation}\")\n",
        "best_individual = max(population, key=lambda x: fitness_score(x))\n",
        "print(f\"Best Individual: {best_individual}\")\n",
        "print(f\"Fitness Score: {fitness_score(best_individual)}\")\n",
        "\n",
        "plt.bar(range(generation), fitness, color='skyblue')\n",
        "plt.xlabel('Generation', fontsize=20)\n",
        "plt.ylabel('Average Fitness', fontsize=20)\n",
        "plt.title('Fitness over Generations', fontsize=20)\n",
        "plt.show()"
      ],
      "id": "D2C1LUAMP9KZ",
      "execution_count": 69,
      "outputs": [
        {
          "output_type": "stream",
          "name": "stdout",
          "text": [
            "Generations: 16\n",
            "Best Individual: [5, 2, 0, 7, 4, 1, 3, 6]\n",
            "Fitness Score: 1.0\n"
          ]
        },
        {
          "output_type": "display_data",
          "data": {
            "text/plain": [
              "<Figure size 640x480 with 1 Axes>"
            ],
            "image/png": "[encoded data removed]"
          },
          "metadata": {}
        }
      ]
    },
    {
      "cell_type": "markdown",
      "metadata": {
        "id": "qvP67wrDP9KZ"
      },
      "source": [
        "### Draw Chessboard"
      ],
      "id": "qvP67wrDP9KZ"
    },
    {
      "cell_type": "code",
      "metadata": {
        "colab": {
          "base_uri": "https://localhost:8080/",
          "height": 447
        },
        "id": "bZ4380ogP9KZ",
        "outputId": "cdaf1fe2-9331-4763-fffb-9c428030977f"
      },
      "source": [
        "def draw_chessboard(board):\n",
        "    # Draw the chessboard with queens\n",
        "    fig, ax = plt.subplots()\n",
        "    ax.set_aspect('equal')\n",
        "\n",
        "    for i in range(8):\n",
        "        for j in range(8):\n",
        "            color = 'white' if (i + j) % 2 == 0 else 'black'\n",
        "            ax.add_patch(plt.Rectangle((j, i), 1, 1, color=color))\n",
        "\n",
        "    for col, row in enumerate(board):\n",
        "        ax.text(col + 0.5, row + 0.5, '♕', fontsize=20, ha='center', va='center', color='red')\n",
        "\n",
        "    ax.set_xlim(0, 8)\n",
        "    ax.set_ylim(0, 8)\n",
        "    ax.set_xticks(np.arange(0.5, 8.5, 1))\n",
        "    ax.set_yticks(np.arange(0.5, 8.5, 1))\n",
        "    ax.set_xticklabels(range(1, 9))\n",
        "    ax.set_yticklabels(range(1, 9))\n",
        "    ax.tick_params(axis='both', which='both', length=0)\n",
        "    ax.grid(True)\n",
        "    ax.invert_yaxis()\n",
        "    plt.title('Chessboard with Queens')\n",
        "    plt.show()\n",
        "\n",
        "draw_chessboard(best_individual)"
      ],
      "id": "bZ4380ogP9KZ",
      "execution_count": 70,
      "outputs": [
        {
          "output_type": "display_data",
          "data": {
            "text/plain": [
              "<Figure size 640x480 with 1 Axes>"
            ],
            "image/png": "[encoded data removed]"
          },
          "metadata": {}
        }
      ]
    }
  ],
  "metadata": {
    "kernelspec": {
      "display_name": "Python 3",
      "language": "python",
      "name": "python3"
    },
    "language_info": {
      "codemirror_mode": {
        "name": "ipython",
        "version": 3
      },
      "file_extension": ".py",
      "mimetype": "text/x-python",
      "name": "python",
      "nbconvert_exporter": "python",
      "pygments_lexer": "ipython3",
      "version": "3.8.5"
    },
    "colab": {
      "provenance": []
    }
  },
  "nbformat": 4,
  "nbformat_minor": 5
}